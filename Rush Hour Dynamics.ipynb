{
 "cells": [
  {
   "cell_type": "markdown",
   "metadata": {},
   "source": [
    "Rush Hour Dynamics: Studying the London Underground using Python"
   ]
  },
  {
   "cell_type": "markdown",
   "metadata": {},
   "source": [
    "# Outline\n",
    "\n",
    "* Introduction and motivating problem\n",
    "* Data collection and thinking about data structures\n",
    "* Brief introduction to the basics of using graph-tool\n",
    "\n"
   ]
  },
  {
   "cell_type": "code",
   "execution_count": null,
   "metadata": {
    "collapsed": false
   },
   "outputs": [],
   "source": []
  },
  {
   "cell_type": "markdown",
   "metadata": {},
   "source": [
    "## Introduction\n",
    "My name is Camilla. I recently (2013) graduated from Bryn Mawr College (Philadelphia) and then spent a year at Edinburgh.I currently work as a software engineer in test in London. "
   ]
  },
  {
   "cell_type": "code",
   "execution_count": 1,
   "metadata": {
    "collapsed": false
   },
   "outputs": [],
   "source": [
    "%load_ext autoreload\n"
   ]
  },
  {
   "cell_type": "code",
   "execution_count": 2,
   "metadata": {
    "collapsed": false
   },
   "outputs": [
    {
     "ename": "ImportError",
     "evalue": "No module named src",
     "output_type": "error",
     "traceback": [
      "\u001b[1;31m---------------------------------------------------------------------------\u001b[0m",
      "\u001b[1;31mImportError\u001b[0m                               Traceback (most recent call last)",
      "\u001b[1;32m<ipython-input-2-6f60e316db3c>\u001b[0m in \u001b[0;36m<module>\u001b[1;34m()\u001b[0m\n\u001b[0;32m      1\u001b[0m \u001b[0mget_ipython\u001b[0m\u001b[1;33m(\u001b[0m\u001b[1;33m)\u001b[0m\u001b[1;33m.\u001b[0m\u001b[0mmagic\u001b[0m\u001b[1;33m(\u001b[0m\u001b[1;34mu'autoreload 2'\u001b[0m\u001b[1;33m)\u001b[0m\u001b[1;33m\u001b[0m\u001b[0m\n\u001b[1;32m----> 2\u001b[1;33m \u001b[1;32mfrom\u001b[0m \u001b[0msrc\u001b[0m \u001b[1;32mimport\u001b[0m \u001b[0msimulation_utils\u001b[0m\u001b[1;33m\u001b[0m\u001b[0m\n\u001b[0m\u001b[0;32m      3\u001b[0m \u001b[1;32mfrom\u001b[0m \u001b[0msrc\u001b[0m\u001b[1;33m.\u001b[0m\u001b[0mbokeh_visualizations\u001b[0m \u001b[1;32mimport\u001b[0m \u001b[0mbokeh_map\u001b[0m\u001b[1;33m\u001b[0m\u001b[0m\n\u001b[0;32m      4\u001b[0m \u001b[1;33m\u001b[0m\u001b[0m\n\u001b[0;32m      5\u001b[0m \u001b[1;31m#create column datasource\u001b[0m\u001b[1;33m\u001b[0m\u001b[1;33m\u001b[0m\u001b[0m\n",
      "\u001b[1;31mImportError\u001b[0m: No module named src"
     ]
    }
   ],
   "source": [
    "%autoreload 2\n",
    "from src import simulation_utils\n",
    "from src.bokeh_visualizations import bokeh_map \n",
    "\n",
    "#create column datasource\n",
    "geographical_data=\"/home/winterflower/programming_projects/python-londontube/src/data/london_stations.csv\"\n",
    "network_data=\"/home/winterflower/programming_projects/python-londontube/src/data/londontubes.txt\"\n",
    "column_datasource = bokeh_map.parse_input_file(geographical_data)\n",
    "\n",
    "#plot data and output to current notebook\n",
    "bokeh_map.bokeh_zone_colour_map(column_datasource, notebook=True)"
   ]
  },
  {
   "cell_type": "markdown",
   "metadata": {},
   "source": [
    "## Motivating Problem\n",
    "\n",
    "[add an iPython widget here]\n",
    "My first flat in London was located in Marylebone. I got lucky in many ways, one of them was that for my daily commute to Liverpool Street Station, I could choose between 4 different tube lines: Circle , Hammersmith & City, Bakerloo and Metropolitan. I quickly became baffled by how the number of people in the trains on different stations varied different day. Some days the Edware road station would be packed, while other days it was empty and the Bakerloo station would be packed at exactly the same time. \n",
    "I noticed that these fluctuations were somehow associated with whether there were any delays on other underground lines and whether some stations were suspended. \n",
    "\n",
    "I became interested in studying the London Underground as a system. \n",
    "First, I had some questions about the static nature of the map.\n",
    "\n",
    "1. What kind of graph properties does the London Underground have?\n",
    "2. What is the average shortest path between any two stations?\n",
    "3. Is there a path from every station to another?\n"
   ]
  },
  {
   "cell_type": "markdown",
   "metadata": {},
   "source": [
    "## Technology \n",
    "To answer these questions, I chose two Python libraries: graph-tool and bokeh, graph-tool for the analytical side of things and bokeh for generating visualizations from. "
   ]
  },
  {
   "cell_type": "markdown",
   "metadata": {},
   "source": [
    "## The London Underground as a Graph\n",
    "\n",
    "1. Data collection\n",
    "Since there were no available sources online that had the data in the format that I wanted, I had two options: devise some optical character recognition magic to automatically parse the map or do it the old school way and write my own data file by hand. At this point, I got a bit unlucky and caught the flu and was confined to my bed for a week. Since there was very little else to do, I set out to collect the London Undergroun data by hand and I came up with the file below\n"
   ]
  },
  {
   "cell_type": "markdown",
   "metadata": {},
   "source": [
    "```\n",
    "#Station #Neighbour(line)\n",
    "Acton Town\t        Chiswick Park (District), South Ealing (Picadilly), Turnham Green (Picadilly)\n",
    "Aldgate\t\t        Tower Hill (Circle; District), Liverpool Street (Metropolitan; Circle; District)\n",
    "Aldgate East\t    Tower Hill (District), Liverpool Street (HammersmithCity; Metropolitan)\n",
    "Alperton\t        Sudbury Town (Picadilly), Park Royal (Picadilly)\n",
    "```\n"
   ]
  },
  {
   "cell_type": "markdown",
   "metadata": {},
   "source": [
    "2. In addition to the data specifying the network properties of the graph, we have data regarding the geographical locations and travel zones "
   ]
  },
  {
   "cell_type": "markdown",
   "metadata": {},
   "source": [
    "```\n",
    "Acton,51.516886963398,-0.26767554257793,\"3\",W3 0BP\n",
    "Acton Central,51.508757812012,-0.26341579231596,\"2\",W3 6BD\n",
    "Acton Town,51.503071476856,-0.2802882961706,\"3\",W3 8HN\n",
    "```"
   ]
  },
  {
   "cell_type": "markdown",
   "metadata": {},
   "source": [
    "## Properties of the London Graph\n",
    "At first, I wanted to establish some properties of the graph without mixing in simulations and commuters and things like that. \n",
    "\n"
   ]
  },
  {
   "cell_type": "markdown",
   "metadata": {},
   "source": [
    "## Centrality\n",
    "The aim of centrality is to provide measures of the most 'important' vertices in a graph. This is interesting when applied to the problem of the London Underground, because it may indicate which stations are the most critical ones for passengers and must remain operational"
   ]
  },
  {
   "cell_type": "markdown",
   "metadata": {},
   "source": [
    "## Betweenness Centrality\n",
    "Betweenness centrality measures how many of the shortest paths from one vertex to another travel through a vertex. "
   ]
  },
  {
   "cell_type": "code",
   "execution_count": null,
   "metadata": {
    "collapsed": false
   },
   "outputs": [],
   "source": [
    "#calculate the betweenness centrality\n",
    "#create the map_object\n",
    "\n",
    "from src import simulation_utils\n",
    "from src.graph_analytics import graph_analysis\n",
    "import pandas as pd\n",
    "betweenness_centrality_series_object=graph_analysis.calculate_betweenness(network_data)\n",
    "betweenness_centrality_series_object.sort(ascending=False)\n",
    "print betweenness_centrality_series_object[:10]\n",
    "\n",
    "\n"
   ]
  },
  {
   "cell_type": "code",
   "execution_count": null,
   "metadata": {
    "collapsed": false
   },
   "outputs": [],
   "source": [
    "## calculate the length of the shortest path from any two stations\n",
    "\n",
    "from src.graph_analytics import graph_analysis\n",
    "shortest_paths=graph_analysis.calculate_all_shortest_paths(network_data)\n",
    "#calculate the mean shortest path\n",
    "mean_shortest_path=shortest_paths.mean(axis=0)\n",
    "\n"
   ]
  },
  {
   "cell_type": "code",
   "execution_count": null,
   "metadata": {
    "collapsed": false
   },
   "outputs": [],
   "source": [
    "#find out stations with smallest mean shortest paths\n",
    "mean_shortest_path.order(ascending=True, inplace=True)\n",
    "#find out the top 5 stations\n",
    "mean_shortest_path[:5]\n",
    "\n"
   ]
  },
  {
   "cell_type": "code",
   "execution_count": null,
   "metadata": {
    "collapsed": false
   },
   "outputs": [],
   "source": [
    "#find out the bottom 5 stations\n",
    "mean_shortest_path[len(mean_shortest_path.index)-5:]"
   ]
  },
  {
   "cell_type": "code",
   "execution_count": null,
   "metadata": {
    "collapsed": false
   },
   "outputs": [],
   "source": [
    "pd.set_option('display.mpl_style', 'default') # Make the graphs a bit prettier\n",
    "figsize(15, 5)\n",
    "#what is the overall distribution of mean shortest paths \n",
    "pd.Series.hist(mean_shortest_path)\n"
   ]
  },
  {
   "cell_type": "code",
   "execution_count": null,
   "metadata": {
    "collapsed": false
   },
   "outputs": [],
   "source": [
    "#calculate the average shortest path\n",
    "graph_analysis.calculate_average_shortest_path(shortest_paths)"
   ]
  },
  {
   "cell_type": "code",
   "execution_count": null,
   "metadata": {
    "collapsed": false
   },
   "outputs": [],
   "source": []
  },
  {
   "cell_type": "code",
   "execution_count": null,
   "metadata": {
    "collapsed": false
   },
   "outputs": [],
   "source": []
  }
 ],
 "metadata": {
  "kernelspec": {
   "display_name": "Python 2",
   "language": "python",
   "name": "python2"
  },
  "language_info": {
   "codemirror_mode": {
    "name": "ipython",
    "version": 2
   },
   "file_extension": ".py",
   "mimetype": "text/x-python",
   "name": "python",
   "nbconvert_exporter": "python",
   "pygments_lexer": "ipython2",
   "version": "2.7.9"
  }
 },
 "nbformat": 4,
 "nbformat_minor": 0
}
